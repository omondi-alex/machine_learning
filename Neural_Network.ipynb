{
  "nbformat": 4,
  "nbformat_minor": 0,
  "metadata": {
    "colab": {
      "provenance": []
    },
    "kernelspec": {
      "name": "python3",
      "display_name": "Python 3"
    },
    "language_info": {
      "name": "python"
    }
  },
  "cells": [
    {
      "cell_type": "markdown",
      "source": [
        "# ***Neural Network By Hand!***\n",
        "---\n",
        "\n",
        "\n",
        "\n",
        "---\n",
        "\n",
        "\n",
        "\n",
        "\n",
        "\n",
        "\n",
        "\n",
        "\n",
        "\n"
      ],
      "metadata": {
        "id": "u-32cnD6f81W"
      }
    },
    {
      "cell_type": "markdown",
      "source": [
        "#0.Step#\n",
        "\n",
        "##codding a little neural network from scratch##"
      ],
      "metadata": {
        "id": "OnMDJ_lUCOsC"
      }
    },
    {
      "cell_type": "code",
      "source": [
        "from google.colab import drive\n",
        "drive.mount('/content/gdrive')"
      ],
      "metadata": {
        "colab": {
          "base_uri": "https://localhost:8080/"
        },
        "id": "uuI6jDHDqBeT",
        "outputId": "366736de-fd9d-4ee7-eac1-260140579e3c"
      },
      "execution_count": null,
      "outputs": [
        {
          "output_type": "stream",
          "name": "stdout",
          "text": [
            "Mounted at /content/gdrive\n"
          ]
        }
      ]
    },
    {
      "cell_type": "code",
      "source": [
        "!pwd"
      ],
      "metadata": {
        "colab": {
          "base_uri": "https://localhost:8080/"
        },
        "id": "364BfcpRo1sd",
        "outputId": "00478324-d0ba-4201-d183-5e70a77db219"
      },
      "execution_count": null,
      "outputs": [
        {
          "output_type": "stream",
          "name": "stdout",
          "text": [
            "/content\n"
          ]
        }
      ]
    },
    {
      "cell_type": "code",
      "source": [
        "%cd /content/gdrive/"
      ],
      "metadata": {
        "colab": {
          "base_uri": "https://localhost:8080/"
        },
        "id": "T3P9ASLXo4rB",
        "outputId": "1c1e944f-c306-4756-c42b-b42f887ec30d"
      },
      "execution_count": null,
      "outputs": [
        {
          "output_type": "stream",
          "name": "stdout",
          "text": [
            "/content/gdrive\n"
          ]
        }
      ]
    },
    {
      "cell_type": "code",
      "source": [
        "ls -l"
      ],
      "metadata": {
        "colab": {
          "base_uri": "https://localhost:8080/"
        },
        "id": "Vu502lhAo8CV",
        "outputId": "6029d0ff-71c8-4928-a9c2-ffb428f7a9af"
      },
      "execution_count": null,
      "outputs": [
        {
          "output_type": "stream",
          "name": "stdout",
          "text": [
            "total 4\n",
            "drwx------ 4 root root 4096 Jan 28 13:27 \u001b[0m\u001b[01;34mMyDrive\u001b[0m/\n"
          ]
        }
      ]
    },
    {
      "cell_type": "code",
      "source": [
        "%cd MyDrive/"
      ],
      "metadata": {
        "colab": {
          "base_uri": "https://localhost:8080/"
        },
        "id": "MEJ5rC_no_Jj",
        "outputId": "8dd602c8-c68f-429a-ebb7-faed4093e080"
      },
      "execution_count": null,
      "outputs": [
        {
          "output_type": "stream",
          "name": "stdout",
          "text": [
            "/content/gdrive/MyDrive\n"
          ]
        }
      ]
    },
    {
      "cell_type": "code",
      "source": [
        "import sys, os\n",
        "import numpy as np\n",
        "import pandas as pd\n",
        "import matplotlib.pyplot as plt"
      ],
      "metadata": {
        "id": "wmGxDFPppDNl"
      },
      "execution_count": null,
      "outputs": []
    },
    {
      "cell_type": "code",
      "execution_count": null,
      "metadata": {
        "id": "TNH0wZGYB07F"
      },
      "outputs": [],
      "source": [
        "import numpy as np\n",
        "import pandas as pd\n",
        "import random\n",
        "import math\n",
        "np.random.seed(42)\n",
        "\n",
        "import matplotlib.pyplot as plt\n",
        "FONTSIZE = 16\n",
        "params = {\n",
        "         'figure.figsize' : (6,6),\n",
        "         'axes.labelsize' : FONTSIZE,\n",
        "         'axes.titlesize' : FONTSIZE+2,\n",
        "         'legend.fontsize': FONTSIZE,\n",
        "         'xtick.labelsize': FONTSIZE,\n",
        "         'ytick.labelsize': FONTSIZE,\n",
        "         'xtick.color'    : 'black',\n",
        "         'ytick.color'    : 'black',\n",
        "         'axes.facecolor' : 'white',\n",
        "         'axes.edgecolor' : 'black',\n",
        "         'axes.titlepad'  :  20,\n",
        "         'axes.labelpad'  :  10}\n",
        "plt.rcParams.update(params)\n",
        "\n",
        "XNAME = 'x1'; XLABEL = r'$x_1$'\n",
        "YNAME = 'x2'; YLABEL = r'$x_2$'\n",
        "RANGE = (-6, 6); STEP = 0.1\n",
        "\n",
        "def predict(output_node, boundary_value):\n",
        "  output_node.reshape(-1, 1, 1) # a list (m, 1, 1)\n",
        "  predictions = np.array(output_node > boundary_value, dtype=int)\n",
        "  return predictions\n",
        "\n",
        "def plot_cost_vs_iter(train_costs, test_costs, title=\"Cost evolution\"):\n",
        "\n",
        "  fig, ax = plt.subplots(figsize=(8, 6))\n",
        "  iters = np.arange(1,len(train_costs)+1)\n",
        "  ax.plot(iters, train_costs, color='red', lw=1, label='Training set')\n",
        "  ax.plot(iters, test_costs, color='blue', lw=1, label='Testing set')\n",
        "  ax.set_xlabel(\"Number of iterations\"); ax.set_xlim(1, iters[-1])\n",
        "  ax.set_ylabel(\"Cost\")\n",
        "  ax.legend(loc=\"upper right\", frameon=False)\n",
        "  ax.set_title(title)\n",
        "  plt.show()\n",
        "\n",
        "\n",
        "def get_decision_surface(weights, biases, boundary=0.5, range=RANGE, step=STEP):\n",
        "\n",
        "  # Create a grid of points spanning the parameter space:\n",
        "  x1v, x2v = np.meshgrid(np.arange(range[0], range[1]+step, step),\n",
        "                         np.arange(range[0], range[1]+step, step))\n",
        "\n",
        "  # Stack it so that it is shaped like X_train: (m,2)\n",
        "  X_grid = np.c_[x1v.ravel(), x2v.ravel()].reshape(-1,2)\n",
        "\n",
        "  # Feedforward on all grid points and get binary predictions:\n",
        "  output = feedforward(X_grid, weights, biases)[-1] # getting only output node\n",
        "  Ypred_grid = predict(output, boundary)\n",
        "\n",
        "  return (x1v, x2v, Ypred_grid.reshape(x1v.shape))\n",
        "\n",
        "\n",
        "def plot_scatter(sig, bkg, ds=None, xname=XNAME, xlabel=XLABEL, yname=YNAME, ylabel=YLABEL, range=RANGE, step=STEP, title=\"Scatter plot\"):\n",
        "\n",
        "  fig, ax = plt.subplots()\n",
        "\n",
        "  # Decision surface\n",
        "  if ds:\n",
        "    (xx, yy, Z) = ds # unpack contour data\n",
        "    cs = plt.contourf(xx, yy, Z, levels=[0,0.5,1], colors=['orange','dodgerblue'], alpha=0.3)\n",
        "\n",
        "  # Scatter signal and background:\n",
        "  ax.scatter(sig[xname], sig[yname], marker='o', s=10, c='dodgerblue', alpha=1, label='Positive class')\n",
        "  ax.scatter(bkg[xname], bkg[yname], marker='o', s=10, c='orange',     alpha=1, label='Negative class')\n",
        "\n",
        "  # Axes, legend and plot:\n",
        "  ax.set_xlim(range); ax.set_xlabel(xlabel)\n",
        "  ax.set_ylim(range); ax.set_ylabel(ylabel)\n",
        "\n",
        "  ax.legend(bbox_to_anchor=(1.04, 0.5), loc=\"center left\", frameon=False)\n",
        "  ax.set_title(title)\n",
        "  plt.show()"
      ]
    },
    {
      "cell_type": "markdown",
      "source": [
        "#1. Get the data#\n",
        "\n",
        "##1.1: Get the data file##\n",
        "##Getting and reading the files into train and test dataframes##\n",
        "\n"
      ],
      "metadata": {
        "id": "piHMC1TwCzMh"
      }
    },
    {
      "cell_type": "code",
      "source": [
        "ath=\"/content/gdrive/MyDrive\"\n",
        "\n",
        "train = pd.read_csv(path + \"/ml_a3_data_train.csv\")\n",
        "test  = pd.read_csv(path + \"/ml_a3_data_test.csv\")"
      ],
      "metadata": {
        "id": "6ewdsNfQCsCA"
      },
      "execution_count": null,
      "outputs": []
    },
    {
      "cell_type": "code",
      "source": [
        "train [:5]"
      ],
      "metadata": {
        "id": "iwdbpfiQJCCl",
        "colab": {
          "base_uri": "https://localhost:8080/",
          "height": 206
        },
        "outputId": "f82730f9-690e-415d-8a90-b5c71fb460a6"
      },
      "execution_count": null,
      "outputs": [
        {
          "output_type": "execute_result",
          "data": {
            "text/plain": [
              "         x1        x2  class\n",
              "0 -0.136282  3.244889      0\n",
              "1 -5.305888  5.629232      0\n",
              "2 -4.147647 -0.226319      1\n",
              "3 -2.170794  3.946986      0\n",
              "4 -5.555908  1.155239      0"
            ],
            "text/html": [
              "\n",
              "  <div id=\"df-8dc77692-9c3c-44c5-a318-47c2139dd7fd\" class=\"colab-df-container\">\n",
              "    <div>\n",
              "<style scoped>\n",
              "    .dataframe tbody tr th:only-of-type {\n",
              "        vertical-align: middle;\n",
              "    }\n",
              "\n",
              "    .dataframe tbody tr th {\n",
              "        vertical-align: top;\n",
              "    }\n",
              "\n",
              "    .dataframe thead th {\n",
              "        text-align: right;\n",
              "    }\n",
              "</style>\n",
              "<table border=\"1\" class=\"dataframe\">\n",
              "  <thead>\n",
              "    <tr style=\"text-align: right;\">\n",
              "      <th></th>\n",
              "      <th>x1</th>\n",
              "      <th>x2</th>\n",
              "      <th>class</th>\n",
              "    </tr>\n",
              "  </thead>\n",
              "  <tbody>\n",
              "    <tr>\n",
              "      <th>0</th>\n",
              "      <td>-0.136282</td>\n",
              "      <td>3.244889</td>\n",
              "      <td>0</td>\n",
              "    </tr>\n",
              "    <tr>\n",
              "      <th>1</th>\n",
              "      <td>-5.305888</td>\n",
              "      <td>5.629232</td>\n",
              "      <td>0</td>\n",
              "    </tr>\n",
              "    <tr>\n",
              "      <th>2</th>\n",
              "      <td>-4.147647</td>\n",
              "      <td>-0.226319</td>\n",
              "      <td>1</td>\n",
              "    </tr>\n",
              "    <tr>\n",
              "      <th>3</th>\n",
              "      <td>-2.170794</td>\n",
              "      <td>3.946986</td>\n",
              "      <td>0</td>\n",
              "    </tr>\n",
              "    <tr>\n",
              "      <th>4</th>\n",
              "      <td>-5.555908</td>\n",
              "      <td>1.155239</td>\n",
              "      <td>0</td>\n",
              "    </tr>\n",
              "  </tbody>\n",
              "</table>\n",
              "</div>\n",
              "    <div class=\"colab-df-buttons\">\n",
              "\n",
              "  <div class=\"colab-df-container\">\n",
              "    <button class=\"colab-df-convert\" onclick=\"convertToInteractive('df-8dc77692-9c3c-44c5-a318-47c2139dd7fd')\"\n",
              "            title=\"Convert this dataframe to an interactive table.\"\n",
              "            style=\"display:none;\">\n",
              "\n",
              "  <svg xmlns=\"http://www.w3.org/2000/svg\" height=\"24px\" viewBox=\"0 -960 960 960\">\n",
              "    <path d=\"M120-120v-720h720v720H120Zm60-500h600v-160H180v160Zm220 220h160v-160H400v160Zm0 220h160v-160H400v160ZM180-400h160v-160H180v160Zm440 0h160v-160H620v160ZM180-180h160v-160H180v160Zm440 0h160v-160H620v160Z\"/>\n",
              "  </svg>\n",
              "    </button>\n",
              "\n",
              "  <style>\n",
              "    .colab-df-container {\n",
              "      display:flex;\n",
              "      gap: 12px;\n",
              "    }\n",
              "\n",
              "    .colab-df-convert {\n",
              "      background-color: #E8F0FE;\n",
              "      border: none;\n",
              "      border-radius: 50%;\n",
              "      cursor: pointer;\n",
              "      display: none;\n",
              "      fill: #1967D2;\n",
              "      height: 32px;\n",
              "      padding: 0 0 0 0;\n",
              "      width: 32px;\n",
              "    }\n",
              "\n",
              "    .colab-df-convert:hover {\n",
              "      background-color: #E2EBFA;\n",
              "      box-shadow: 0px 1px 2px rgba(60, 64, 67, 0.3), 0px 1px 3px 1px rgba(60, 64, 67, 0.15);\n",
              "      fill: #174EA6;\n",
              "    }\n",
              "\n",
              "    .colab-df-buttons div {\n",
              "      margin-bottom: 4px;\n",
              "    }\n",
              "\n",
              "    [theme=dark] .colab-df-convert {\n",
              "      background-color: #3B4455;\n",
              "      fill: #D2E3FC;\n",
              "    }\n",
              "\n",
              "    [theme=dark] .colab-df-convert:hover {\n",
              "      background-color: #434B5C;\n",
              "      box-shadow: 0px 1px 3px 1px rgba(0, 0, 0, 0.15);\n",
              "      filter: drop-shadow(0px 1px 2px rgba(0, 0, 0, 0.3));\n",
              "      fill: #FFFFFF;\n",
              "    }\n",
              "  </style>\n",
              "\n",
              "    <script>\n",
              "      const buttonEl =\n",
              "        document.querySelector('#df-8dc77692-9c3c-44c5-a318-47c2139dd7fd button.colab-df-convert');\n",
              "      buttonEl.style.display =\n",
              "        google.colab.kernel.accessAllowed ? 'block' : 'none';\n",
              "\n",
              "      async function convertToInteractive(key) {\n",
              "        const element = document.querySelector('#df-8dc77692-9c3c-44c5-a318-47c2139dd7fd');\n",
              "        const dataTable =\n",
              "          await google.colab.kernel.invokeFunction('convertToInteractive',\n",
              "                                                    [key], {});\n",
              "        if (!dataTable) return;\n",
              "\n",
              "        const docLinkHtml = 'Like what you see? Visit the ' +\n",
              "          '<a target=\"_blank\" href=https://colab.research.google.com/notebooks/data_table.ipynb>data table notebook</a>'\n",
              "          + ' to learn more about interactive tables.';\n",
              "        element.innerHTML = '';\n",
              "        dataTable['output_type'] = 'display_data';\n",
              "        await google.colab.output.renderOutput(dataTable, element);\n",
              "        const docLink = document.createElement('div');\n",
              "        docLink.innerHTML = docLinkHtml;\n",
              "        element.appendChild(docLink);\n",
              "      }\n",
              "    </script>\n",
              "  </div>\n",
              "\n",
              "\n",
              "<div id=\"df-6d648f59-11e2-486a-b333-b1f48a3a7cdb\">\n",
              "  <button class=\"colab-df-quickchart\" onclick=\"quickchart('df-6d648f59-11e2-486a-b333-b1f48a3a7cdb')\"\n",
              "            title=\"Suggest charts\"\n",
              "            style=\"display:none;\">\n",
              "\n",
              "<svg xmlns=\"http://www.w3.org/2000/svg\" height=\"24px\"viewBox=\"0 0 24 24\"\n",
              "     width=\"24px\">\n",
              "    <g>\n",
              "        <path d=\"M19 3H5c-1.1 0-2 .9-2 2v14c0 1.1.9 2 2 2h14c1.1 0 2-.9 2-2V5c0-1.1-.9-2-2-2zM9 17H7v-7h2v7zm4 0h-2V7h2v10zm4 0h-2v-4h2v4z\"/>\n",
              "    </g>\n",
              "</svg>\n",
              "  </button>\n",
              "\n",
              "<style>\n",
              "  .colab-df-quickchart {\n",
              "      --bg-color: #E8F0FE;\n",
              "      --fill-color: #1967D2;\n",
              "      --hover-bg-color: #E2EBFA;\n",
              "      --hover-fill-color: #174EA6;\n",
              "      --disabled-fill-color: #AAA;\n",
              "      --disabled-bg-color: #DDD;\n",
              "  }\n",
              "\n",
              "  [theme=dark] .colab-df-quickchart {\n",
              "      --bg-color: #3B4455;\n",
              "      --fill-color: #D2E3FC;\n",
              "      --hover-bg-color: #434B5C;\n",
              "      --hover-fill-color: #FFFFFF;\n",
              "      --disabled-bg-color: #3B4455;\n",
              "      --disabled-fill-color: #666;\n",
              "  }\n",
              "\n",
              "  .colab-df-quickchart {\n",
              "    background-color: var(--bg-color);\n",
              "    border: none;\n",
              "    border-radius: 50%;\n",
              "    cursor: pointer;\n",
              "    display: none;\n",
              "    fill: var(--fill-color);\n",
              "    height: 32px;\n",
              "    padding: 0;\n",
              "    width: 32px;\n",
              "  }\n",
              "\n",
              "  .colab-df-quickchart:hover {\n",
              "    background-color: var(--hover-bg-color);\n",
              "    box-shadow: 0 1px 2px rgba(60, 64, 67, 0.3), 0 1px 3px 1px rgba(60, 64, 67, 0.15);\n",
              "    fill: var(--button-hover-fill-color);\n",
              "  }\n",
              "\n",
              "  .colab-df-quickchart-complete:disabled,\n",
              "  .colab-df-quickchart-complete:disabled:hover {\n",
              "    background-color: var(--disabled-bg-color);\n",
              "    fill: var(--disabled-fill-color);\n",
              "    box-shadow: none;\n",
              "  }\n",
              "\n",
              "  .colab-df-spinner {\n",
              "    border: 2px solid var(--fill-color);\n",
              "    border-color: transparent;\n",
              "    border-bottom-color: var(--fill-color);\n",
              "    animation:\n",
              "      spin 1s steps(1) infinite;\n",
              "  }\n",
              "\n",
              "  @keyframes spin {\n",
              "    0% {\n",
              "      border-color: transparent;\n",
              "      border-bottom-color: var(--fill-color);\n",
              "      border-left-color: var(--fill-color);\n",
              "    }\n",
              "    20% {\n",
              "      border-color: transparent;\n",
              "      border-left-color: var(--fill-color);\n",
              "      border-top-color: var(--fill-color);\n",
              "    }\n",
              "    30% {\n",
              "      border-color: transparent;\n",
              "      border-left-color: var(--fill-color);\n",
              "      border-top-color: var(--fill-color);\n",
              "      border-right-color: var(--fill-color);\n",
              "    }\n",
              "    40% {\n",
              "      border-color: transparent;\n",
              "      border-right-color: var(--fill-color);\n",
              "      border-top-color: var(--fill-color);\n",
              "    }\n",
              "    60% {\n",
              "      border-color: transparent;\n",
              "      border-right-color: var(--fill-color);\n",
              "    }\n",
              "    80% {\n",
              "      border-color: transparent;\n",
              "      border-right-color: var(--fill-color);\n",
              "      border-bottom-color: var(--fill-color);\n",
              "    }\n",
              "    90% {\n",
              "      border-color: transparent;\n",
              "      border-bottom-color: var(--fill-color);\n",
              "    }\n",
              "  }\n",
              "</style>\n",
              "\n",
              "  <script>\n",
              "    async function quickchart(key) {\n",
              "      const quickchartButtonEl =\n",
              "        document.querySelector('#' + key + ' button');\n",
              "      quickchartButtonEl.disabled = true;  // To prevent multiple clicks.\n",
              "      quickchartButtonEl.classList.add('colab-df-spinner');\n",
              "      try {\n",
              "        const charts = await google.colab.kernel.invokeFunction(\n",
              "            'suggestCharts', [key], {});\n",
              "      } catch (error) {\n",
              "        console.error('Error during call to suggestCharts:', error);\n",
              "      }\n",
              "      quickchartButtonEl.classList.remove('colab-df-spinner');\n",
              "      quickchartButtonEl.classList.add('colab-df-quickchart-complete');\n",
              "    }\n",
              "    (() => {\n",
              "      let quickchartButtonEl =\n",
              "        document.querySelector('#df-6d648f59-11e2-486a-b333-b1f48a3a7cdb button');\n",
              "      quickchartButtonEl.style.display =\n",
              "        google.colab.kernel.accessAllowed ? 'block' : 'none';\n",
              "    })();\n",
              "  </script>\n",
              "</div>\n",
              "\n",
              "    </div>\n",
              "  </div>\n"
            ]
          },
          "metadata": {},
          "execution_count": 9
        }
      ]
    },
    {
      "cell_type": "code",
      "source": [
        "test [: 5]"
      ],
      "metadata": {
        "colab": {
          "base_uri": "https://localhost:8080/",
          "height": 206
        },
        "id": "wyBXwOiyK3uN",
        "outputId": "4bc92ab9-5937-4f34-9b63-822e24d42ff8"
      },
      "execution_count": null,
      "outputs": [
        {
          "output_type": "execute_result",
          "data": {
            "text/plain": [
              "         x1        x2  class\n",
              "0  3.967433  5.580323      1\n",
              "1 -5.324361 -4.574185      1\n",
              "2  5.635016  3.301594      1\n",
              "3  2.369043 -2.431812      0\n",
              "4  3.607040 -3.598197      0"
            ],
            "text/html": [
              "\n",
              "  <div id=\"df-db371ea0-e4e8-473d-bd37-cb87846a5b13\" class=\"colab-df-container\">\n",
              "    <div>\n",
              "<style scoped>\n",
              "    .dataframe tbody tr th:only-of-type {\n",
              "        vertical-align: middle;\n",
              "    }\n",
              "\n",
              "    .dataframe tbody tr th {\n",
              "        vertical-align: top;\n",
              "    }\n",
              "\n",
              "    .dataframe thead th {\n",
              "        text-align: right;\n",
              "    }\n",
              "</style>\n",
              "<table border=\"1\" class=\"dataframe\">\n",
              "  <thead>\n",
              "    <tr style=\"text-align: right;\">\n",
              "      <th></th>\n",
              "      <th>x1</th>\n",
              "      <th>x2</th>\n",
              "      <th>class</th>\n",
              "    </tr>\n",
              "  </thead>\n",
              "  <tbody>\n",
              "    <tr>\n",
              "      <th>0</th>\n",
              "      <td>3.967433</td>\n",
              "      <td>5.580323</td>\n",
              "      <td>1</td>\n",
              "    </tr>\n",
              "    <tr>\n",
              "      <th>1</th>\n",
              "      <td>-5.324361</td>\n",
              "      <td>-4.574185</td>\n",
              "      <td>1</td>\n",
              "    </tr>\n",
              "    <tr>\n",
              "      <th>2</th>\n",
              "      <td>5.635016</td>\n",
              "      <td>3.301594</td>\n",
              "      <td>1</td>\n",
              "    </tr>\n",
              "    <tr>\n",
              "      <th>3</th>\n",
              "      <td>2.369043</td>\n",
              "      <td>-2.431812</td>\n",
              "      <td>0</td>\n",
              "    </tr>\n",
              "    <tr>\n",
              "      <th>4</th>\n",
              "      <td>3.607040</td>\n",
              "      <td>-3.598197</td>\n",
              "      <td>0</td>\n",
              "    </tr>\n",
              "  </tbody>\n",
              "</table>\n",
              "</div>\n",
              "    <div class=\"colab-df-buttons\">\n",
              "\n",
              "  <div class=\"colab-df-container\">\n",
              "    <button class=\"colab-df-convert\" onclick=\"convertToInteractive('df-db371ea0-e4e8-473d-bd37-cb87846a5b13')\"\n",
              "            title=\"Convert this dataframe to an interactive table.\"\n",
              "            style=\"display:none;\">\n",
              "\n",
              "  <svg xmlns=\"http://www.w3.org/2000/svg\" height=\"24px\" viewBox=\"0 -960 960 960\">\n",
              "    <path d=\"M120-120v-720h720v720H120Zm60-500h600v-160H180v160Zm220 220h160v-160H400v160Zm0 220h160v-160H400v160ZM180-400h160v-160H180v160Zm440 0h160v-160H620v160ZM180-180h160v-160H180v160Zm440 0h160v-160H620v160Z\"/>\n",
              "  </svg>\n",
              "    </button>\n",
              "\n",
              "  <style>\n",
              "    .colab-df-container {\n",
              "      display:flex;\n",
              "      gap: 12px;\n",
              "    }\n",
              "\n",
              "    .colab-df-convert {\n",
              "      background-color: #E8F0FE;\n",
              "      border: none;\n",
              "      border-radius: 50%;\n",
              "      cursor: pointer;\n",
              "      display: none;\n",
              "      fill: #1967D2;\n",
              "      height: 32px;\n",
              "      padding: 0 0 0 0;\n",
              "      width: 32px;\n",
              "    }\n",
              "\n",
              "    .colab-df-convert:hover {\n",
              "      background-color: #E2EBFA;\n",
              "      box-shadow: 0px 1px 2px rgba(60, 64, 67, 0.3), 0px 1px 3px 1px rgba(60, 64, 67, 0.15);\n",
              "      fill: #174EA6;\n",
              "    }\n",
              "\n",
              "    .colab-df-buttons div {\n",
              "      margin-bottom: 4px;\n",
              "    }\n",
              "\n",
              "    [theme=dark] .colab-df-convert {\n",
              "      background-color: #3B4455;\n",
              "      fill: #D2E3FC;\n",
              "    }\n",
              "\n",
              "    [theme=dark] .colab-df-convert:hover {\n",
              "      background-color: #434B5C;\n",
              "      box-shadow: 0px 1px 3px 1px rgba(0, 0, 0, 0.15);\n",
              "      filter: drop-shadow(0px 1px 2px rgba(0, 0, 0, 0.3));\n",
              "      fill: #FFFFFF;\n",
              "    }\n",
              "  </style>\n",
              "\n",
              "    <script>\n",
              "      const buttonEl =\n",
              "        document.querySelector('#df-db371ea0-e4e8-473d-bd37-cb87846a5b13 button.colab-df-convert');\n",
              "      buttonEl.style.display =\n",
              "        google.colab.kernel.accessAllowed ? 'block' : 'none';\n",
              "\n",
              "      async function convertToInteractive(key) {\n",
              "        const element = document.querySelector('#df-db371ea0-e4e8-473d-bd37-cb87846a5b13');\n",
              "        const dataTable =\n",
              "          await google.colab.kernel.invokeFunction('convertToInteractive',\n",
              "                                                    [key], {});\n",
              "        if (!dataTable) return;\n",
              "\n",
              "        const docLinkHtml = 'Like what you see? Visit the ' +\n",
              "          '<a target=\"_blank\" href=https://colab.research.google.com/notebooks/data_table.ipynb>data table notebook</a>'\n",
              "          + ' to learn more about interactive tables.';\n",
              "        element.innerHTML = '';\n",
              "        dataTable['output_type'] = 'display_data';\n",
              "        await google.colab.output.renderOutput(dataTable, element);\n",
              "        const docLink = document.createElement('div');\n",
              "        docLink.innerHTML = docLinkHtml;\n",
              "        element.appendChild(docLink);\n",
              "      }\n",
              "    </script>\n",
              "  </div>\n",
              "\n",
              "\n",
              "<div id=\"df-3f4ff648-6078-45b1-a11d-95c4125f428b\">\n",
              "  <button class=\"colab-df-quickchart\" onclick=\"quickchart('df-3f4ff648-6078-45b1-a11d-95c4125f428b')\"\n",
              "            title=\"Suggest charts\"\n",
              "            style=\"display:none;\">\n",
              "\n",
              "<svg xmlns=\"http://www.w3.org/2000/svg\" height=\"24px\"viewBox=\"0 0 24 24\"\n",
              "     width=\"24px\">\n",
              "    <g>\n",
              "        <path d=\"M19 3H5c-1.1 0-2 .9-2 2v14c0 1.1.9 2 2 2h14c1.1 0 2-.9 2-2V5c0-1.1-.9-2-2-2zM9 17H7v-7h2v7zm4 0h-2V7h2v10zm4 0h-2v-4h2v4z\"/>\n",
              "    </g>\n",
              "</svg>\n",
              "  </button>\n",
              "\n",
              "<style>\n",
              "  .colab-df-quickchart {\n",
              "      --bg-color: #E8F0FE;\n",
              "      --fill-color: #1967D2;\n",
              "      --hover-bg-color: #E2EBFA;\n",
              "      --hover-fill-color: #174EA6;\n",
              "      --disabled-fill-color: #AAA;\n",
              "      --disabled-bg-color: #DDD;\n",
              "  }\n",
              "\n",
              "  [theme=dark] .colab-df-quickchart {\n",
              "      --bg-color: #3B4455;\n",
              "      --fill-color: #D2E3FC;\n",
              "      --hover-bg-color: #434B5C;\n",
              "      --hover-fill-color: #FFFFFF;\n",
              "      --disabled-bg-color: #3B4455;\n",
              "      --disabled-fill-color: #666;\n",
              "  }\n",
              "\n",
              "  .colab-df-quickchart {\n",
              "    background-color: var(--bg-color);\n",
              "    border: none;\n",
              "    border-radius: 50%;\n",
              "    cursor: pointer;\n",
              "    display: none;\n",
              "    fill: var(--fill-color);\n",
              "    height: 32px;\n",
              "    padding: 0;\n",
              "    width: 32px;\n",
              "  }\n",
              "\n",
              "  .colab-df-quickchart:hover {\n",
              "    background-color: var(--hover-bg-color);\n",
              "    box-shadow: 0 1px 2px rgba(60, 64, 67, 0.3), 0 1px 3px 1px rgba(60, 64, 67, 0.15);\n",
              "    fill: var(--button-hover-fill-color);\n",
              "  }\n",
              "\n",
              "  .colab-df-quickchart-complete:disabled,\n",
              "  .colab-df-quickchart-complete:disabled:hover {\n",
              "    background-color: var(--disabled-bg-color);\n",
              "    fill: var(--disabled-fill-color);\n",
              "    box-shadow: none;\n",
              "  }\n",
              "\n",
              "  .colab-df-spinner {\n",
              "    border: 2px solid var(--fill-color);\n",
              "    border-color: transparent;\n",
              "    border-bottom-color: var(--fill-color);\n",
              "    animation:\n",
              "      spin 1s steps(1) infinite;\n",
              "  }\n",
              "\n",
              "  @keyframes spin {\n",
              "    0% {\n",
              "      border-color: transparent;\n",
              "      border-bottom-color: var(--fill-color);\n",
              "      border-left-color: var(--fill-color);\n",
              "    }\n",
              "    20% {\n",
              "      border-color: transparent;\n",
              "      border-left-color: var(--fill-color);\n",
              "      border-top-color: var(--fill-color);\n",
              "    }\n",
              "    30% {\n",
              "      border-color: transparent;\n",
              "      border-left-color: var(--fill-color);\n",
              "      border-top-color: var(--fill-color);\n",
              "      border-right-color: var(--fill-color);\n",
              "    }\n",
              "    40% {\n",
              "      border-color: transparent;\n",
              "      border-right-color: var(--fill-color);\n",
              "      border-top-color: var(--fill-color);\n",
              "    }\n",
              "    60% {\n",
              "      border-color: transparent;\n",
              "      border-right-color: var(--fill-color);\n",
              "    }\n",
              "    80% {\n",
              "      border-color: transparent;\n",
              "      border-right-color: var(--fill-color);\n",
              "      border-bottom-color: var(--fill-color);\n",
              "    }\n",
              "    90% {\n",
              "      border-color: transparent;\n",
              "      border-bottom-color: var(--fill-color);\n",
              "    }\n",
              "  }\n",
              "</style>\n",
              "\n",
              "  <script>\n",
              "    async function quickchart(key) {\n",
              "      const quickchartButtonEl =\n",
              "        document.querySelector('#' + key + ' button');\n",
              "      quickchartButtonEl.disabled = true;  // To prevent multiple clicks.\n",
              "      quickchartButtonEl.classList.add('colab-df-spinner');\n",
              "      try {\n",
              "        const charts = await google.colab.kernel.invokeFunction(\n",
              "            'suggestCharts', [key], {});\n",
              "      } catch (error) {\n",
              "        console.error('Error during call to suggestCharts:', error);\n",
              "      }\n",
              "      quickchartButtonEl.classList.remove('colab-df-spinner');\n",
              "      quickchartButtonEl.classList.add('colab-df-quickchart-complete');\n",
              "    }\n",
              "    (() => {\n",
              "      let quickchartButtonEl =\n",
              "        document.querySelector('#df-3f4ff648-6078-45b1-a11d-95c4125f428b button');\n",
              "      quickchartButtonEl.style.display =\n",
              "        google.colab.kernel.accessAllowed ? 'block' : 'none';\n",
              "    })();\n",
              "  </script>\n",
              "</div>\n",
              "\n",
              "    </div>\n",
              "  </div>\n"
            ]
          },
          "metadata": {},
          "execution_count": 10
        }
      ]
    },
    {
      "cell_type": "markdown",
      "source": [
        "##The train and test dataframes contains 320 and 80 samples respectively. The name of the column containing the labels is class and the class values are 0 and 1##"
      ],
      "metadata": {
        "id": "u6mWIAkZK_5l"
      }
    },
    {
      "cell_type": "code",
      "source": [
        "print(f'There are {len(train)} samples in the dataset.')"
      ],
      "metadata": {
        "colab": {
          "base_uri": "https://localhost:8080/"
        },
        "id": "NGns-tHyK_Fq",
        "outputId": "7d6bc1dd-48a7-4258-8b2e-9907ec712b16"
      },
      "execution_count": null,
      "outputs": [
        {
          "output_type": "stream",
          "name": "stdout",
          "text": [
            "There are 320 samples in the dataset.\n"
          ]
        }
      ]
    },
    {
      "cell_type": "code",
      "source": [
        "print(f'There are {len(test)} samples in the dataset.')"
      ],
      "metadata": {
        "colab": {
          "base_uri": "https://localhost:8080/"
        },
        "id": "Dz-UgyzsMApH",
        "outputId": "583692c3-b824-492d-f76c-3908b2651d41"
      },
      "execution_count": null,
      "outputs": [
        {
          "output_type": "stream",
          "name": "stdout",
          "text": [
            "There are 80 samples in the dataset.\n"
          ]
        }
      ]
    },
    {
      "cell_type": "markdown",
      "source": [
        "#1.2: Split signal vs background#\n",
        "\n",
        "##Creating a sig and bkg dataframes that collect the real signal and value samples.##"
      ],
      "metadata": {
        "id": "4tbvndpZPBp3"
      }
    },
    {
      "cell_type": "code",
      "source": [
        "for name, d in zip(['train', 'test '],[train, test]):\n",
        "  print(f\"Dataset {name} has {d.shape[0]:5d} rows, \\\n",
        "        {(d['class'] == 1).sum():5d} signal VBF events, \\\n",
        "        {(d['class'] == 0).sum():5d} background ggf events.\")"
      ],
      "metadata": {
        "id": "UcgzSBNHM0Yw",
        "colab": {
          "base_uri": "https://localhost:8080/"
        },
        "outputId": "c4d69f19-20eb-4f76-c1cd-feebda1c657d"
      },
      "execution_count": null,
      "outputs": [
        {
          "output_type": "stream",
          "name": "stdout",
          "text": [
            "Dataset train has   320 rows,           149 signal VBF events,           171 background ggf events.\n",
            "Dataset test  has    80 rows,            43 signal VBF events,            37 background ggf events.\n"
          ]
        }
      ]
    },
    {
      "cell_type": "code",
      "source": [
        "sig = train[train['class'] == 0]\n",
        "bkg = train[train['class'] ==1 ]\n",
        "sig.head()"
      ],
      "metadata": {
        "colab": {
          "base_uri": "https://localhost:8080/",
          "height": 206
        },
        "id": "IqnI766eRBYI",
        "outputId": "5f427402-26b1-4c94-9487-2e3292d9d32a"
      },
      "execution_count": null,
      "outputs": [
        {
          "output_type": "execute_result",
          "data": {
            "text/plain": [
              "         x1        x2  class\n",
              "0 -0.136282  3.244889      0\n",
              "1 -5.305888  5.629232      0\n",
              "3 -2.170794  3.946986      0\n",
              "4 -5.555908  1.155239      0\n",
              "5 -2.775872  0.499611      0"
            ],
            "text/html": [
              "\n",
              "  <div id=\"df-9bdde18d-6be9-405f-9c18-7e3e4d517cbc\" class=\"colab-df-container\">\n",
              "    <div>\n",
              "<style scoped>\n",
              "    .dataframe tbody tr th:only-of-type {\n",
              "        vertical-align: middle;\n",
              "    }\n",
              "\n",
              "    .dataframe tbody tr th {\n",
              "        vertical-align: top;\n",
              "    }\n",
              "\n",
              "    .dataframe thead th {\n",
              "        text-align: right;\n",
              "    }\n",
              "</style>\n",
              "<table border=\"1\" class=\"dataframe\">\n",
              "  <thead>\n",
              "    <tr style=\"text-align: right;\">\n",
              "      <th></th>\n",
              "      <th>x1</th>\n",
              "      <th>x2</th>\n",
              "      <th>class</th>\n",
              "    </tr>\n",
              "  </thead>\n",
              "  <tbody>\n",
              "    <tr>\n",
              "      <th>0</th>\n",
              "      <td>-0.136282</td>\n",
              "      <td>3.244889</td>\n",
              "      <td>0</td>\n",
              "    </tr>\n",
              "    <tr>\n",
              "      <th>1</th>\n",
              "      <td>-5.305888</td>\n",
              "      <td>5.629232</td>\n",
              "      <td>0</td>\n",
              "    </tr>\n",
              "    <tr>\n",
              "      <th>3</th>\n",
              "      <td>-2.170794</td>\n",
              "      <td>3.946986</td>\n",
              "      <td>0</td>\n",
              "    </tr>\n",
              "    <tr>\n",
              "      <th>4</th>\n",
              "      <td>-5.555908</td>\n",
              "      <td>1.155239</td>\n",
              "      <td>0</td>\n",
              "    </tr>\n",
              "    <tr>\n",
              "      <th>5</th>\n",
              "      <td>-2.775872</td>\n",
              "      <td>0.499611</td>\n",
              "      <td>0</td>\n",
              "    </tr>\n",
              "  </tbody>\n",
              "</table>\n",
              "</div>\n",
              "    <div class=\"colab-df-buttons\">\n",
              "\n",
              "  <div class=\"colab-df-container\">\n",
              "    <button class=\"colab-df-convert\" onclick=\"convertToInteractive('df-9bdde18d-6be9-405f-9c18-7e3e4d517cbc')\"\n",
              "            title=\"Convert this dataframe to an interactive table.\"\n",
              "            style=\"display:none;\">\n",
              "\n",
              "  <svg xmlns=\"http://www.w3.org/2000/svg\" height=\"24px\" viewBox=\"0 -960 960 960\">\n",
              "    <path d=\"M120-120v-720h720v720H120Zm60-500h600v-160H180v160Zm220 220h160v-160H400v160Zm0 220h160v-160H400v160ZM180-400h160v-160H180v160Zm440 0h160v-160H620v160ZM180-180h160v-160H180v160Zm440 0h160v-160H620v160Z\"/>\n",
              "  </svg>\n",
              "    </button>\n",
              "\n",
              "  <style>\n",
              "    .colab-df-container {\n",
              "      display:flex;\n",
              "      gap: 12px;\n",
              "    }\n",
              "\n",
              "    .colab-df-convert {\n",
              "      background-color: #E8F0FE;\n",
              "      border: none;\n",
              "      border-radius: 50%;\n",
              "      cursor: pointer;\n",
              "      display: none;\n",
              "      fill: #1967D2;\n",
              "      height: 32px;\n",
              "      padding: 0 0 0 0;\n",
              "      width: 32px;\n",
              "    }\n",
              "\n",
              "    .colab-df-convert:hover {\n",
              "      background-color: #E2EBFA;\n",
              "      box-shadow: 0px 1px 2px rgba(60, 64, 67, 0.3), 0px 1px 3px 1px rgba(60, 64, 67, 0.15);\n",
              "      fill: #174EA6;\n",
              "    }\n",
              "\n",
              "    .colab-df-buttons div {\n",
              "      margin-bottom: 4px;\n",
              "    }\n",
              "\n",
              "    [theme=dark] .colab-df-convert {\n",
              "      background-color: #3B4455;\n",
              "      fill: #D2E3FC;\n",
              "    }\n",
              "\n",
              "    [theme=dark] .colab-df-convert:hover {\n",
              "      background-color: #434B5C;\n",
              "      box-shadow: 0px 1px 3px 1px rgba(0, 0, 0, 0.15);\n",
              "      filter: drop-shadow(0px 1px 2px rgba(0, 0, 0, 0.3));\n",
              "      fill: #FFFFFF;\n",
              "    }\n",
              "  </style>\n",
              "\n",
              "    <script>\n",
              "      const buttonEl =\n",
              "        document.querySelector('#df-9bdde18d-6be9-405f-9c18-7e3e4d517cbc button.colab-df-convert');\n",
              "      buttonEl.style.display =\n",
              "        google.colab.kernel.accessAllowed ? 'block' : 'none';\n",
              "\n",
              "      async function convertToInteractive(key) {\n",
              "        const element = document.querySelector('#df-9bdde18d-6be9-405f-9c18-7e3e4d517cbc');\n",
              "        const dataTable =\n",
              "          await google.colab.kernel.invokeFunction('convertToInteractive',\n",
              "                                                    [key], {});\n",
              "        if (!dataTable) return;\n",
              "\n",
              "        const docLinkHtml = 'Like what you see? Visit the ' +\n",
              "          '<a target=\"_blank\" href=https://colab.research.google.com/notebooks/data_table.ipynb>data table notebook</a>'\n",
              "          + ' to learn more about interactive tables.';\n",
              "        element.innerHTML = '';\n",
              "        dataTable['output_type'] = 'display_data';\n",
              "        await google.colab.output.renderOutput(dataTable, element);\n",
              "        const docLink = document.createElement('div');\n",
              "        docLink.innerHTML = docLinkHtml;\n",
              "        element.appendChild(docLink);\n",
              "      }\n",
              "    </script>\n",
              "  </div>\n",
              "\n",
              "\n",
              "<div id=\"df-94cb4529-c74e-4f25-b937-1560a311d130\">\n",
              "  <button class=\"colab-df-quickchart\" onclick=\"quickchart('df-94cb4529-c74e-4f25-b937-1560a311d130')\"\n",
              "            title=\"Suggest charts\"\n",
              "            style=\"display:none;\">\n",
              "\n",
              "<svg xmlns=\"http://www.w3.org/2000/svg\" height=\"24px\"viewBox=\"0 0 24 24\"\n",
              "     width=\"24px\">\n",
              "    <g>\n",
              "        <path d=\"M19 3H5c-1.1 0-2 .9-2 2v14c0 1.1.9 2 2 2h14c1.1 0 2-.9 2-2V5c0-1.1-.9-2-2-2zM9 17H7v-7h2v7zm4 0h-2V7h2v10zm4 0h-2v-4h2v4z\"/>\n",
              "    </g>\n",
              "</svg>\n",
              "  </button>\n",
              "\n",
              "<style>\n",
              "  .colab-df-quickchart {\n",
              "      --bg-color: #E8F0FE;\n",
              "      --fill-color: #1967D2;\n",
              "      --hover-bg-color: #E2EBFA;\n",
              "      --hover-fill-color: #174EA6;\n",
              "      --disabled-fill-color: #AAA;\n",
              "      --disabled-bg-color: #DDD;\n",
              "  }\n",
              "\n",
              "  [theme=dark] .colab-df-quickchart {\n",
              "      --bg-color: #3B4455;\n",
              "      --fill-color: #D2E3FC;\n",
              "      --hover-bg-color: #434B5C;\n",
              "      --hover-fill-color: #FFFFFF;\n",
              "      --disabled-bg-color: #3B4455;\n",
              "      --disabled-fill-color: #666;\n",
              "  }\n",
              "\n",
              "  .colab-df-quickchart {\n",
              "    background-color: var(--bg-color);\n",
              "    border: none;\n",
              "    border-radius: 50%;\n",
              "    cursor: pointer;\n",
              "    display: none;\n",
              "    fill: var(--fill-color);\n",
              "    height: 32px;\n",
              "    padding: 0;\n",
              "    width: 32px;\n",
              "  }\n",
              "\n",
              "  .colab-df-quickchart:hover {\n",
              "    background-color: var(--hover-bg-color);\n",
              "    box-shadow: 0 1px 2px rgba(60, 64, 67, 0.3), 0 1px 3px 1px rgba(60, 64, 67, 0.15);\n",
              "    fill: var(--button-hover-fill-color);\n",
              "  }\n",
              "\n",
              "  .colab-df-quickchart-complete:disabled,\n",
              "  .colab-df-quickchart-complete:disabled:hover {\n",
              "    background-color: var(--disabled-bg-color);\n",
              "    fill: var(--disabled-fill-color);\n",
              "    box-shadow: none;\n",
              "  }\n",
              "\n",
              "  .colab-df-spinner {\n",
              "    border: 2px solid var(--fill-color);\n",
              "    border-color: transparent;\n",
              "    border-bottom-color: var(--fill-color);\n",
              "    animation:\n",
              "      spin 1s steps(1) infinite;\n",
              "  }\n",
              "\n",
              "  @keyframes spin {\n",
              "    0% {\n",
              "      border-color: transparent;\n",
              "      border-bottom-color: var(--fill-color);\n",
              "      border-left-color: var(--fill-color);\n",
              "    }\n",
              "    20% {\n",
              "      border-color: transparent;\n",
              "      border-left-color: var(--fill-color);\n",
              "      border-top-color: var(--fill-color);\n",
              "    }\n",
              "    30% {\n",
              "      border-color: transparent;\n",
              "      border-left-color: var(--fill-color);\n",
              "      border-top-color: var(--fill-color);\n",
              "      border-right-color: var(--fill-color);\n",
              "    }\n",
              "    40% {\n",
              "      border-color: transparent;\n",
              "      border-right-color: var(--fill-color);\n",
              "      border-top-color: var(--fill-color);\n",
              "    }\n",
              "    60% {\n",
              "      border-color: transparent;\n",
              "      border-right-color: var(--fill-color);\n",
              "    }\n",
              "    80% {\n",
              "      border-color: transparent;\n",
              "      border-right-color: var(--fill-color);\n",
              "      border-bottom-color: var(--fill-color);\n",
              "    }\n",
              "    90% {\n",
              "      border-color: transparent;\n",
              "      border-bottom-color: var(--fill-color);\n",
              "    }\n",
              "  }\n",
              "</style>\n",
              "\n",
              "  <script>\n",
              "    async function quickchart(key) {\n",
              "      const quickchartButtonEl =\n",
              "        document.querySelector('#' + key + ' button');\n",
              "      quickchartButtonEl.disabled = true;  // To prevent multiple clicks.\n",
              "      quickchartButtonEl.classList.add('colab-df-spinner');\n",
              "      try {\n",
              "        const charts = await google.colab.kernel.invokeFunction(\n",
              "            'suggestCharts', [key], {});\n",
              "      } catch (error) {\n",
              "        console.error('Error during call to suggestCharts:', error);\n",
              "      }\n",
              "      quickchartButtonEl.classList.remove('colab-df-spinner');\n",
              "      quickchartButtonEl.classList.add('colab-df-quickchart-complete');\n",
              "    }\n",
              "    (() => {\n",
              "      let quickchartButtonEl =\n",
              "        document.querySelector('#df-94cb4529-c74e-4f25-b937-1560a311d130 button');\n",
              "      quickchartButtonEl.style.display =\n",
              "        google.colab.kernel.accessAllowed ? 'block' : 'none';\n",
              "    })();\n",
              "  </script>\n",
              "</div>\n",
              "\n",
              "    </div>\n",
              "  </div>\n"
            ]
          },
          "metadata": {},
          "execution_count": 13
        }
      ]
    },
    {
      "cell_type": "markdown",
      "source": [
        "#1.3: Dataframe to NumPy#"
      ],
      "metadata": {
        "id": "BDyrglffh4iH"
      }
    },
    {
      "cell_type": "code",
      "source": [
        "inputs = ['x1', 'x2']\n",
        "X_train = train[inputs].values\n",
        "y_train = train['class'].values\n",
        "\n",
        "X_test  = test[inputs].values\n",
        "y_test  = test['class'].values\n",
        "X_train"
      ],
      "metadata": {
        "id": "E3XSW_ufqaSz",
        "colab": {
          "base_uri": "https://localhost:8080/"
        },
        "outputId": "4e1d484b-99df-4bfe-957b-a474093d77a8"
      },
      "execution_count": null,
      "outputs": [
        {
          "output_type": "execute_result",
          "data": {
            "text/plain": [
              "array([[-0.13628172,  3.24488901],\n",
              "       [-5.30588788,  5.62923156],\n",
              "       [-4.14764742, -0.22631878],\n",
              "       [-2.17079432,  3.94698569],\n",
              "       [-5.55590838,  1.15523854],\n",
              "       [-2.77587169,  0.49961058],\n",
              "       [ 0.33241331,  5.91557755],\n",
              "       [-1.98907331,  3.25094644],\n",
              "       [ 4.44118649, -5.74476707],\n",
              "       [ 4.03176145,  2.35169047],\n",
              "       [-4.65553317, -1.22573281],\n",
              "       [-0.34108574, -1.05790903],\n",
              "       [-1.84940332,  1.45098621],\n",
              "       [ 5.09632342,  4.52807224],\n",
              "       [-1.69841126, -4.60957129],\n",
              "       [ 3.00737702,  3.68201687],\n",
              "       [-2.26821214, -2.09780014],\n",
              "       [ 5.46628435, -5.78120901],\n",
              "       [-4.56161559, -1.94861794],\n",
              "       [ 5.32871208, -5.52687826],\n",
              "       [-4.77861033, -4.16569033],\n",
              "       [-2.15063922, -3.76177788],\n",
              "       [-1.49300457, -4.87221672],\n",
              "       [-2.4666133 , -1.37882726],\n",
              "       [-4.50404783,  5.05010259],\n",
              "       [ 5.69273769,  5.83452893],\n",
              "       [-5.19508227,  2.99952564],\n",
              "       [ 0.58480547,  2.30274237],\n",
              "       [ 3.09915835, -5.704957  ],\n",
              "       [ 1.8200019 , -1.57768388],\n",
              "       [-3.07821244,  5.12441454],\n",
              "       [-0.9632722 ,  1.66231137],\n",
              "       [-1.09256467, -3.92046816],\n",
              "       [-1.55433477, -0.18572418],\n",
              "       [-1.2459277 ,  2.34560648],\n",
              "       [ 1.58176232, -2.88235703],\n",
              "       [-2.1839583 , -4.67937691],\n",
              "       [ 3.01045281,  3.05451449],\n",
              "       [-4.32772711,  4.01916284],\n",
              "       [ 2.34173465, -1.14817478],\n",
              "       [ 5.1927418 ,  4.39276667],\n",
              "       [ 1.83295329, -3.14180663],\n",
              "       [-3.25442201, -5.07624108],\n",
              "       [ 2.64043844,  1.69377159],\n",
              "       [-2.77207915,  3.57070921],\n",
              "       [ 3.35821187, -5.5245741 ],\n",
              "       [-5.71633697,  1.70365801],\n",
              "       [-3.41189817,  1.90662564],\n",
              "       [-0.43561914, -1.75977326],\n",
              "       [-4.12275549, -2.99708522],\n",
              "       [ 3.35814474, -4.71623233],\n",
              "       [ 2.91247825, -0.89407999],\n",
              "       [ 3.7899975 , -3.30671314],\n",
              "       [ 3.8066664 ,  0.66240974],\n",
              "       [-1.27362713,  1.81479572],\n",
              "       [-2.79566076,  4.54355984],\n",
              "       [ 2.48228813,  2.74808602],\n",
              "       [ 1.89135471,  0.81970324],\n",
              "       [ 3.57376379, -0.77300022],\n",
              "       [-4.00459957,  2.8564034 ],\n",
              "       [ 2.713096  ,  5.71022495],\n",
              "       [ 0.7780936 , -5.21149633],\n",
              "       [-2.73425835,  1.082768  ],\n",
              "       [ 2.71146815,  4.76532312],\n",
              "       [-0.86160462,  2.61117319],\n",
              "       [ 1.60173864, -2.90534777],\n",
              "       [ 4.40486782,  4.95888663],\n",
              "       [ 0.22701246, -5.4364084 ],\n",
              "       [ 1.21338014,  2.49687093],\n",
              "       [-3.89554466,  4.97294335],\n",
              "       [-3.96290514,  0.23728738],\n",
              "       [ 1.54731416,  4.52966416],\n",
              "       [-2.58191407, -5.55735663],\n",
              "       [ 0.7157842 , -5.88274983],\n",
              "       [ 0.24369241,  3.2678207 ],\n",
              "       [ 3.55844749, -0.22173178],\n",
              "       [-4.09673874,  4.57044911],\n",
              "       [ 1.17479975,  5.06249082],\n",
              "       [-0.57218059,  1.72293234],\n",
              "       [ 4.52847686,  2.88922341],\n",
              "       [ 5.99296471, -5.42145553],\n",
              "       [-3.26477805, -0.87470654],\n",
              "       [ 3.81617719,  4.328767  ],\n",
              "       [ 2.75527414,  1.65068966],\n",
              "       [-0.73234295, -5.05852342],\n",
              "       [ 2.01059879, -4.85357623],\n",
              "       [ 0.62288207,  0.73125566],\n",
              "       [ 5.5875844 ,  3.70076818],\n",
              "       [-1.33587252, -2.74381162],\n",
              "       [-2.48147074, -2.05602546],\n",
              "       [-4.35737244,  4.8002237 ],\n",
              "       [-4.79066398, -5.78133809],\n",
              "       [-3.2585431 ,  5.95600699],\n",
              "       [ 5.85179476, -5.5186897 ],\n",
              "       [ 1.09530523, -1.21196755],\n",
              "       [-1.32957986, -5.86994818],\n",
              "       [-2.49426422, -1.60365788],\n",
              "       [-3.81743899, -1.8519926 ],\n",
              "       [ 1.72799452, -1.09518995],\n",
              "       [-4.26126153, -0.12656688],\n",
              "       [ 3.14950423,  4.52118764],\n",
              "       [ 5.93889387, -3.91325701],\n",
              "       [ 4.72919044, -3.24054473],\n",
              "       [ 4.80501669,  1.59721749],\n",
              "       [-5.45109559,  4.45844167],\n",
              "       [-4.972101  ,  4.7302905 ],\n",
              "       [ 3.71233387,  3.72136074],\n",
              "       [-4.71393586, -0.6310516 ],\n",
              "       [-3.57775857,  2.0811892 ],\n",
              "       [-4.90215795,  4.52953035],\n",
              "       [-3.04850726, -4.07182352],\n",
              "       [ 5.41036275, -4.1873053 ],\n",
              "       [ 3.12273432,  1.14766489],\n",
              "       [-2.34463477, -4.82793463],\n",
              "       [-2.07560206,  2.01112063],\n",
              "       [-3.52399538, -1.62876167],\n",
              "       [-1.95596188,  3.94660039],\n",
              "       [ 2.59380809, -2.72851199],\n",
              "       [-2.63073165, -5.7082084 ],\n",
              "       [ 4.64503709,  3.35850655],\n",
              "       [ 2.32418671, -3.35076465],\n",
              "       [-5.84286652,  1.96244846],\n",
              "       [ 3.67441536,  2.97911628],\n",
              "       [-5.07656158,  2.35546531],\n",
              "       [-4.72088364,  1.89414366],\n",
              "       [ 3.87137182, -0.91514096],\n",
              "       [-3.87587419, -4.93556959],\n",
              "       [-5.14573622, -2.17229244],\n",
              "       [ 2.25462867, -5.18595529],\n",
              "       [ 0.48762146,  1.64915882],\n",
              "       [-2.71648   ,  5.965494  ],\n",
              "       [-2.59468913, -1.64301244],\n",
              "       [ 4.46212233, -5.6490326 ],\n",
              "       [ 2.99582198, -4.43896512],\n",
              "       [ 3.96263837, -1.23379764],\n",
              "       [ 5.33119787, -0.3094294 ],\n",
              "       [ 4.80842237, -0.93934888],\n",
              "       [-5.45737596, -5.68359631],\n",
              "       [ 5.15637183,  3.69744455],\n",
              "       [ 1.12310944,  2.14922783],\n",
              "       [-2.67806643,  1.10820394],\n",
              "       [-5.27679132,  5.21323232],\n",
              "       [ 5.95964204,  0.66518047],\n",
              "       [-0.54312173,  0.18715234],\n",
              "       [-5.3763446 ,  0.49555602],\n",
              "       [-4.07088125,  3.81560429],\n",
              "       [-1.50875045, -1.55229424],\n",
              "       [-5.94072023,  5.42174143],\n",
              "       [-3.65050638, -5.16766439],\n",
              "       [-5.03862184,  4.73779987],\n",
              "       [ 2.62855086, -2.43453941],\n",
              "       [-3.81810039, -3.79914588],\n",
              "       [-3.78574777, -3.48780812],\n",
              "       [-5.22949276,  0.98365682],\n",
              "       [ 1.03930156, -3.98382951],\n",
              "       [-2.3884372 ,  2.49806506],\n",
              "       [ 4.372299  , -0.32148112],\n",
              "       [-3.82273983,  0.3019606 ],\n",
              "       [-3.60549059,  2.16273891],\n",
              "       [ 3.20625947, -1.17682904],\n",
              "       [-5.86375626, -0.3760723 ],\n",
              "       [-1.97857375,  2.92209908],\n",
              "       [ 2.26082876, -0.78207194],\n",
              "       [-2.81757159, -3.07212428],\n",
              "       [-0.57361166,  5.20650021],\n",
              "       [ 1.98236665,  0.2767851 ],\n",
              "       [ 5.55590405, -1.89753401],\n",
              "       [-0.59347038, -4.45008702],\n",
              "       [-2.0292237 , -5.2372998 ],\n",
              "       [-3.09545981,  5.83995112],\n",
              "       [-4.58698701,  0.91819771],\n",
              "       [-3.38095335,  5.39953421],\n",
              "       [-0.94290539,  4.71206053],\n",
              "       [-2.76908123, -1.47259004],\n",
              "       [ 2.95253855,  1.00042518],\n",
              "       [-0.65633694,  0.17780825],\n",
              "       [-3.8635684 ,  5.53284381],\n",
              "       [ 4.48294349,  5.05046881],\n",
              "       [ 3.32576299,  0.700851  ],\n",
              "       [-1.92659769,  3.77790136],\n",
              "       [-1.44257064,  4.36000379],\n",
              "       [-0.1599727 ,  4.48107886],\n",
              "       [-0.98903069,  4.54941969],\n",
              "       [ 4.97815081, -1.65127321],\n",
              "       [-1.92150043,  2.69720126],\n",
              "       [ 1.08353931, -2.78323631],\n",
              "       [ 5.63894455, -4.87319141],\n",
              "       [ 1.85413457, -2.72088568],\n",
              "       [-5.62096626,  5.23454695],\n",
              "       [ 3.12942058,  0.73532637],\n",
              "       [-5.82727814, -4.60712831],\n",
              "       [-3.22710244,  2.06271292],\n",
              "       [ 4.71070798,  0.4721069 ],\n",
              "       [-2.52298257, -4.06534455],\n",
              "       [ 5.39759896,  2.7086341 ],\n",
              "       [-1.02216597, -2.71911514],\n",
              "       [-0.99106796, -3.33470627],\n",
              "       [ 3.75359481,  5.36698293],\n",
              "       [ 5.40493781,  4.68316541],\n",
              "       [ 3.36630618, -2.70232757],\n",
              "       [ 5.63294787, -2.90239881],\n",
              "       [ 5.56343973,  4.23611347],\n",
              "       [ 0.80774664, -2.9212466 ],\n",
              "       [-5.38225499, -2.65624243],\n",
              "       [-2.0824643 ,  0.21253972],\n",
              "       [ 3.57954215,  1.79956717],\n",
              "       [-5.75914563, -2.13505001],\n",
              "       [ 5.28550301,  5.44714292],\n",
              "       [ 2.07022147,  3.02849435],\n",
              "       [ 5.6336452 ,  4.38608551],\n",
              "       [-5.77931188,  4.97158568],\n",
              "       [-3.81458501,  3.47638209],\n",
              "       [ 1.36093667, -3.99559265],\n",
              "       [-2.11584916, -0.89476274],\n",
              "       [-5.00641598,  1.23782531],\n",
              "       [ 4.41770705, -3.87420253],\n",
              "       [-0.24149256,  1.53006556],\n",
              "       [ 2.35224742, -4.15324912],\n",
              "       [ 5.40728576,  0.88125466],\n",
              "       [ 1.7510069 ,  0.84933966],\n",
              "       [ 0.14012931,  0.38536182],\n",
              "       [ 5.85342624, -4.36272297],\n",
              "       [ 5.40284825, -0.64793072],\n",
              "       [-2.48222724,  4.75602982],\n",
              "       [-3.46262392, -2.07003177],\n",
              "       [ 0.53386918, -5.93089607],\n",
              "       [ 3.43614017, -4.92706797],\n",
              "       [-5.93926099, -4.07030338],\n",
              "       [-0.96479925, -3.02722813],\n",
              "       [-2.17496996,  1.51069652],\n",
              "       [ 5.63163043,  0.27717413],\n",
              "       [-4.55236955, -0.47065478],\n",
              "       [ 1.33177187, -1.06765836],\n",
              "       [ 4.98585957, -5.59264826],\n",
              "       [ 2.85001498, -0.57338471],\n",
              "       [-5.45727253, -2.09603603],\n",
              "       [ 4.42161571, -0.15082562],\n",
              "       [ 3.89617159, -1.82628951],\n",
              "       [-1.19084327,  0.71568398],\n",
              "       [ 3.21928097, -0.98679861],\n",
              "       [ 4.93112621,  3.87044692],\n",
              "       [ 0.89367736,  4.10194532],\n",
              "       [ 0.22898142, -0.24981747],\n",
              "       [ 3.81401059, -4.55749134],\n",
              "       [ 0.24196201,  4.226178  ],\n",
              "       [ 1.38008672,  5.8806462 ],\n",
              "       [ 4.726711  ,  3.46316653],\n",
              "       [-3.0431756 ,  3.82922781],\n",
              "       [ 2.56019503,  4.74248205],\n",
              "       [-0.81198239,  5.32339104],\n",
              "       [-1.24509577,  3.09886171],\n",
              "       [ 3.80932274, -1.89819178],\n",
              "       [ 0.22548746,  2.43622751],\n",
              "       [-3.58047216, -4.03612869],\n",
              "       [-1.29307146, -0.75030094],\n",
              "       [-3.97277924, -2.65691593],\n",
              "       [-1.96074866, -4.38702388],\n",
              "       [-4.76988326,  5.24674185],\n",
              "       [ 2.32738133,  0.51269332],\n",
              "       [ 1.04209342,  2.94527369],\n",
              "       [-4.97580398,  5.96249102],\n",
              "       [-0.23296107,  1.10889342],\n",
              "       [ 0.16787387,  3.40383615],\n",
              "       [ 5.89402351, -3.21993958],\n",
              "       [ 2.82085253,  3.64177116],\n",
              "       [ 2.79086517, -3.42071546],\n",
              "       [-3.31418862,  0.44369307],\n",
              "       [ 2.19910516, -5.08642969],\n",
              "       [ 5.80773178, -1.08799192],\n",
              "       [ 2.36418889,  2.42980901],\n",
              "       [-0.82008545, -4.46903637],\n",
              "       [ 5.2827629 ,  0.90569013],\n",
              "       [ 3.16326953, -4.31864189],\n",
              "       [-5.47904961,  1.59781651],\n",
              "       [ 5.23385729,  2.35235756],\n",
              "       [ 2.19954452, -0.64916752],\n",
              "       [-2.6714258 , -3.74254608],\n",
              "       [ 0.79685568, -0.28739517],\n",
              "       [ 1.01177174,  4.81389613],\n",
              "       [ 3.63424138, -5.94441572],\n",
              "       [-2.3048407 ,  2.45616915],\n",
              "       [-4.46344993, -4.17716768],\n",
              "       [ 4.4614028 , -3.36943215],\n",
              "       [ 5.63897277,  4.10542708],\n",
              "       [ 2.48686361, -4.16953149],\n",
              "       [-0.13384104,  2.00237109],\n",
              "       [ 4.26552701,  2.44389431],\n",
              "       [-5.26706448, -2.67746822],\n",
              "       [ 1.43388415, -0.43807147],\n",
              "       [-0.1006095 , -0.31833875],\n",
              "       [ 1.60235653,  0.42929621],\n",
              "       [ 3.75481211,  5.99661208],\n",
              "       [ 3.49894852,  3.47541771],\n",
              "       [-2.46641089,  5.38143968],\n",
              "       [ 1.20024658, -2.50004906],\n",
              "       [-5.63535528,  5.17138435],\n",
              "       [ 5.85266868, -0.8667224 ],\n",
              "       [-0.7303811 , -1.47666685],\n",
              "       [-4.93808998, -3.64820565],\n",
              "       [-5.45464344, -2.62844172],\n",
              "       [ 4.54218674, -1.15031614],\n",
              "       [-0.94371597,  2.85098762],\n",
              "       [ 4.70455866,  1.57366351],\n",
              "       [ 3.06164707,  1.44371462],\n",
              "       [-2.61558513, -3.87072547],\n",
              "       [-4.36354229, -5.82546401],\n",
              "       [-5.01142745,  2.16599162],\n",
              "       [-0.81665978, -2.50525032],\n",
              "       [-5.4479683 , -5.51125437],\n",
              "       [ 5.63785254, -0.5545255 ],\n",
              "       [-3.83309586,  0.81534277],\n",
              "       [ 1.4863119 , -0.57878786],\n",
              "       [ 5.5551225 , -0.19745224],\n",
              "       [ 1.88083997, -2.09771923],\n",
              "       [ 5.45838337,  2.854763  ],\n",
              "       [ 1.96565433, -0.30442949],\n",
              "       [-0.44784257, -2.38346551],\n",
              "       [-3.48113288,  4.77665147],\n",
              "       [-4.39181726, -5.65460788],\n",
              "       [-5.19179278,  0.98604552]])"
            ]
          },
          "metadata": {},
          "execution_count": 15
        }
      ]
    },
    {
      "cell_type": "markdown",
      "source": [
        "#checking the array conversion##"
      ],
      "metadata": {
        "id": "3DyQXoatiXYa"
      }
    },
    {
      "cell_type": "code",
      "source": [
        "X_train [: 5]"
      ],
      "metadata": {
        "colab": {
          "base_uri": "https://localhost:8080/"
        },
        "id": "UPE4JwBRhs6N",
        "outputId": "b8f20662-d23f-4c9a-9b72-194ffe6418cd"
      },
      "execution_count": null,
      "outputs": [
        {
          "output_type": "execute_result",
          "data": {
            "text/plain": [
              "array([[-0.13628172,  3.24488901],\n",
              "       [-5.30588788,  5.62923156],\n",
              "       [-4.14764742, -0.22631878],\n",
              "       [-2.17079432,  3.94698569],\n",
              "       [-5.55590838,  1.15523854]])"
            ]
          },
          "metadata": {},
          "execution_count": 16
        }
      ]
    },
    {
      "cell_type": "code",
      "source": [
        "X_test [: 5]"
      ],
      "metadata": {
        "colab": {
          "base_uri": "https://localhost:8080/"
        },
        "id": "5LJ7_XYrhzqJ",
        "outputId": "b01f4e4b-17e9-45cc-bc14-adac96288a64"
      },
      "execution_count": null,
      "outputs": [
        {
          "output_type": "execute_result",
          "data": {
            "text/plain": [
              "array([[ 3.96743289,  5.58032293],\n",
              "       [-5.32436069, -4.574185  ],\n",
              "       [ 5.63501553,  3.30159388],\n",
              "       [ 2.36904321, -2.43181191],\n",
              "       [ 3.60704039, -3.59819707]])"
            ]
          },
          "metadata": {},
          "execution_count": 17
        }
      ]
    },
    {
      "cell_type": "code",
      "source": [
        "y_train [:5]"
      ],
      "metadata": {
        "colab": {
          "base_uri": "https://localhost:8080/"
        },
        "id": "5mkhsJn5h4eA",
        "outputId": "3b8d4c42-d0b1-4a36-a07f-838a33ca8e99"
      },
      "execution_count": null,
      "outputs": [
        {
          "output_type": "execute_result",
          "data": {
            "text/plain": [
              "array([0, 0, 1, 0, 0])"
            ]
          },
          "metadata": {},
          "execution_count": 18
        }
      ]
    },
    {
      "cell_type": "markdown",
      "source": [
        "#2. Functions#\n",
        "##2.1: Weighted Sum##"
      ],
      "metadata": {
        "id": "iwEZ4veRvWos"
      }
    },
    {
      "cell_type": "code",
      "source": [
        "def z(x,w,b):\n",
        "  return x@w.T+b.T"
      ],
      "metadata": {
        "id": "RaWlME5TvNQS"
      },
      "execution_count": null,
      "outputs": []
    },
    {
      "cell_type": "markdown",
      "source": [
        "*0/1*"
      ],
      "metadata": {
        "id": "7-0Ma7CkbgsM"
      }
    },
    {
      "cell_type": "markdown",
      "source": [
        "##Testing function z##"
      ],
      "metadata": {
        "id": "kyjV70hUVRGu"
      }
    },
    {
      "cell_type": "code",
      "source": [
        "z"
      ],
      "metadata": {
        "colab": {
          "base_uri": "https://localhost:8080/"
        },
        "id": "A-1cJHOpU8aF",
        "outputId": "d67a3cfb-ff65-48e1-9234-de07ef1e4104"
      },
      "execution_count": null,
      "outputs": [
        {
          "output_type": "execute_result",
          "data": {
            "text/plain": [
              "<function __main__.z(a, W, b)>"
            ]
          },
          "metadata": {},
          "execution_count": 20
        }
      ]
    },
    {
      "cell_type": "markdown",
      "source": [
        "#2.2: Activation Functions and Derivatives#"
      ],
      "metadata": {
        "id": "Q4jCKlCPahqv"
      }
    },
    {
      "cell_type": "code",
      "source": [
        "from os import pipe2\n",
        "def tanh(z):\n",
        "  s1=(np.exp(z)-np.exp(-z))/(np.exp(z)+np.exp(-z))\n",
        "  return s1\n",
        "\n",
        "def sigmoid(z):\n",
        "  p1=1/(1+np.exp(-z))\n",
        "  return  p1\n",
        "\n",
        "def sigmoid_prime(z):\n",
        "  # s2=np.exp(-z)/(1+np.exp(-z))**2\n",
        "  s2=sigmoid(z)*(1-sigmoid(z))\n",
        "  return s2\n",
        "\n",
        "def tanh_prime(z):\n",
        "  # p2=np.sum((np.exp(z)+np.exp(-z))**2-(np.exp(z)-np.exp(-z))**2/(np.exp(z)+np.exp(-z))**2)\n",
        "  p2=1-tanh(z)**2\n",
        "  return p2"
      ],
      "metadata": {
        "id": "tBsw-IFQamvp"
      },
      "execution_count": null,
      "outputs": []
    },
    {
      "cell_type": "markdown",
      "source": [
        "#2.3: Cross-entropy cost function#"
      ],
      "metadata": {
        "id": "de9VHaeJa44j"
      }
    },
    {
      "cell_type": "code",
      "source": [
        "def cross_entropy_cost(y_preds, y_vals):\n",
        "  m= y_preds.shape[0]\n",
        "  loss= -np.sum((y_vals*np.log(y_preds)+(1-y_vals)*np.log(1-y_preds)))\n",
        "  return loss/m"
      ],
      "metadata": {
        "id": "fIFkJY5wa0yM"
      },
      "execution_count": null,
      "outputs": []
    },
    {
      "cell_type": "markdown",
      "source": [
        "*1/1*"
      ],
      "metadata": {
        "id": "zILespr6CKOp"
      }
    },
    {
      "cell_type": "markdown",
      "source": [
        "#2.4: Derivative of the Loss#\n",
        "\n",
        "$\\frac{d}{\\hat{dy}^{(i)}}L (\\hat{y}^{(i)},y^{(i)}) = - \\big[\\frac{y^{(i)}}{\\hat{y}^{(i)}} -\\frac{1-y^{(i)}}{1-\\hat{y}^{(i)}}\\big]$"
      ],
      "metadata": {
        "id": "Nh-DF8-SdD89"
      }
    },
    {
      "cell_type": "code",
      "source": [
        "def  L_prime(y_preds, y_obs):\n",
        "   loss= -((y_obs/(y_preds)-(1-y_obs)/(1-y_preds)))\n",
        "   return loss/len(y_preds)"
      ],
      "metadata": {
        "id": "cI-YQx4WdCxs"
      },
      "execution_count": null,
      "outputs": []
    },
    {
      "cell_type": "markdown",
      "source": [
        "*2/2*"
      ],
      "metadata": {
        "id": "2rN-mjXOCv9R"
      }
    },
    {
      "cell_type": "markdown",
      "source": [
        "##Testing the L_prime function##"
      ],
      "metadata": {
        "id": "hPEZJ4KPlB5o"
      }
    },
    {
      "cell_type": "code",
      "source": [
        "L_prime(200,800)"
      ],
      "metadata": {
        "colab": {
          "base_uri": "https://localhost:8080/"
        },
        "id": "mrRxAPc6k1o6",
        "outputId": "52f223c4-9d8a-4ae9-e0e3-46f94cb3220a"
      },
      "execution_count": null,
      "outputs": [
        {
          "output_type": "execute_result",
          "data": {
            "text/plain": [
              "-8.015075376884422"
            ]
          },
          "metadata": {},
          "execution_count": 25
        }
      ]
    },
    {
      "cell_type": "markdown",
      "source": [
        "#3. Feedforward#\n",
        "\n",
        "##3.1: Feedforward Propagation##"
      ],
      "metadata": {
        "id": "8G0ZjpURsRw2"
      }
    },
    {
      "cell_type": "code",
      "source": [
        "def feedforward(input_X, weights, biases):\n",
        "\n",
        "  W1, W2, W3 = weights ; b1, b2, b3 = biases\n",
        "  input_X  = np.array(input_X)\n",
        "  m  = len(input_X)\n",
        "  a0 = input_X.reshape((m, 1, -1))\n",
        "  # print(a0.shape)\n",
        "\n",
        "  # First layer\n",
        "  z1= z(a0,W1,b1)\n",
        "  # print(z1.shape)\n",
        "  a1=tanh(z1)\n",
        "  # print(a1.shape)\n",
        "\n",
        "  # #...\n",
        "\n",
        "  # # Second layer\n",
        "  z2= z(a1,W2,b2)\n",
        "  # print(\"z2\", z2.shape)\n",
        "  a2=tanh(z2)\n",
        "  # print(a2.shape)\n",
        "  # #...\n",
        "\n",
        "  # # Third layer\n",
        "  z3= z(a2,W3,b3)\n",
        "  a3=sigmoid(z3)\n",
        "  # print(a3.shape)\n",
        "\n",
        "\n",
        "  nodes = [a0, z1, a1, z2, a2, z3, a3]\n",
        "\n",
        "  return nodes"
      ],
      "metadata": {
        "id": "yEreNq2UsKId"
      },
      "execution_count": null,
      "outputs": []
    },
    {
      "cell_type": "code",
      "source": [
        "# Initialization\n",
        "m = len(X_train)     # number of data samples\n",
        "n = X_train.shape[1] # number of input features\n",
        "q = 3 # number of nodes in first hidden layer\n",
        "r = 2 # number of nodes in second hidden layer\n",
        "\n",
        "W1=np.random.rand(q, n)*0.01\n",
        "b1= np.random.rand(q, 1)\n",
        "W2= np.random.rand(r, q)*0.01\n",
        "b2= np.random.rand(r, 1)\n",
        "W3= np.random.rand(1, r)*0.01\n",
        "b3= np.random.rand(1, 1)\n",
        "# W1=np.random.rand(n, q)*0.01\n",
        "# b1= np.random.rand(1, q)\n",
        "# W2= np.random.rand(q, r)*0.01\n",
        "# b2= np.random.rand(r, 1)\n",
        "# W3= np.random.rand(r, 1)*0.01\n",
        "# b3= np.random.rand(1, 1)"
      ],
      "metadata": {
        "id": "u1iGkFejZwlu"
      },
      "execution_count": null,
      "outputs": []
    },
    {
      "cell_type": "code",
      "source": [
        "\n",
        "weights= (W1, W2, W3)\n",
        "biases= (b1, b2, b3)"
      ],
      "metadata": {
        "id": "459WFrJAZ1f9"
      },
      "execution_count": null,
      "outputs": []
    },
    {
      "cell_type": "code",
      "source": [
        "nodes= feedforward(X_train, weights, biases)"
      ],
      "metadata": {
        "id": "6Trntwxubtao"
      },
      "execution_count": null,
      "outputs": []
    },
    {
      "cell_type": "markdown",
      "source": [
        "##3.2: Predict##"
      ],
      "metadata": {
        "id": "JmzmBIuhsqHf"
      }
    },
    {
      "cell_type": "markdown",
      "source": [
        "## The output_node in this context is of a list (m, 1, 1) ##\n",
        "## The type of values that the function predict return is int##\n",
        "##After successfully executing the feedforward function, I would call the function predict by passing the parameters of the inputs to the function.##"
      ],
      "metadata": {
        "id": "xVF68D9jmhWG"
      }
    },
    {
      "cell_type": "markdown",
      "source": [
        "#4. Neural Network Training#"
      ],
      "metadata": {
        "id": "oYx0XZnerY5E"
      }
    },
    {
      "cell_type": "code",
      "source": [
        "# Hyperparameters\n",
        "alpha = 0.01\n",
        "N = 1000 # epochs\n",
        "\n",
        "# Initialization\n",
        "m = len(X_train)     # number of data samples\n",
        "n = X_train.shape[1] # number of input features\n",
        "q = 3 # number of nodes in first hidden layer\n",
        "r = 2 # number of nodes in second hidden layer\n",
        "\n",
        "# WEIGHT MATRICES + BIASES\n",
        "W1=np.random.rand(q, n)\n",
        "b1= np.zeros((q, 1))\n",
        "W2= np.random.rand(r, q)\n",
        "b2= np.zeros((r, 1))\n",
        "W3= np.random.rand(1, r)\n",
        "b3= np.zeros((1, 1))\n",
        "# weights= (W1, W2, W3)\n",
        "# biases= (b1, b2, b3)\n",
        "\n",
        "# OUTPUT LAYER\n",
        "y_train = np.reshape(y_train, (-1, 1, 1))\n",
        "y_test  = np.reshape(y_test , (-1, 1, 1))\n",
        "\n",
        "# Storing cost values for train and test datasets\n",
        "costs_train = []\n",
        "costs_test  = []\n",
        "debug = False\n",
        "\n",
        "print(\"Starting the training\\n\")\n",
        "\n",
        "# -------------------\n",
        "#   Start iterations\n",
        "# -------------------\n",
        "for t in range(1, N+1):\n",
        "  weights= (W1, W2, W3)\n",
        "  biases= (b1, b2, b3)\n",
        "\n",
        "  # FORWARD PROPAGATION\n",
        "  # Feedforward on test data:\n",
        "  nodes_test = feedforward(X_test, weights, biases)\n",
        "  ypreds_test = nodes_test[6]\n",
        "\n",
        "  # Feedforward on train data:\n",
        "  a0, z1, a1, z2, a2, z3, a3 = feedforward(X_train, weights, biases)\n",
        "  ypreds_train =  a3\n",
        "\n",
        "  # Cost computation and storage\n",
        "  J_train = cross_entropy_cost(ypreds_train, y_train)\n",
        "  J_test  = cross_entropy_cost(ypreds_test,  y_test )\n",
        "  costs_train.append(J_train)\n",
        "  costs_test.append(J_test)\n",
        "\n",
        "  if (t<=100 and t % 10 == 0) or (t>100 and t % 100 == 0):\n",
        "      print(f\"Iteration {t}\\t Train cost = {J_train:.4f}  Test cost = {J_test:.4f}   Diff = {J_test-J_train:.5f}\")\n",
        "\n",
        "  # BACKWARD PROPAGATION\n",
        "  # Errors delta:\n",
        "  delta_3 = L_prime(a3, y_train)\n",
        "  delta_2 = L_prime(a2, y_train)\n",
        "  delta_1 = L_prime(a1, y_train)\n",
        "\n",
        "  # Partial derivatives:\n",
        "  dCostdW3 =delta_3.reshape(-1,1)* sigmoid_prime(z3).reshape(-1,1)\n",
        "  dCostdW3= dCostdW3.T@a2.squeeze()\n",
        "  dCostdW2 = ((delta_3.reshape(-1,1)* sigmoid_prime(z3).reshape(-1,1))@W3*tanh_prime(z2).squeeze()).T@a1.squeeze()\n",
        "  dCostdW1 = ((((delta_3.reshape(-1,1)* sigmoid_prime(z3).reshape(-1,1))@W3*tanh_prime(z2).squeeze()).T)@((a0.squeeze()@W2)*tanh_prime(z1).squeeze())).T\n",
        "#   dCostdW1 = ((a0.squeeze()*((delta_3.reshape(-1,1)* sigmoid_prime(z3).reshape(-1,1))@W3*tanh_prime(z2).squeeze()))@W2).T@tanh_prime(z1).squeeze()\n",
        "  dCostdb3 = delta_3.reshape(-1,1).T@ sigmoid_prime(z3).reshape(-1,1)\n",
        "  dCostdb2 = (((delta_3.reshape(-1,1)* sigmoid_prime(z3).reshape(-1,1)).T@tanh_prime(z2).squeeze()).T*W3.T)\n",
        "  dCostdb1 = (((W3@(tanh_prime(z2).squeeze().T))*((delta_3.reshape(-1,1)* sigmoid_prime(z3).reshape(-1,1)).T))@tanh_prime(z1).squeeze()).T\n",
        "\n",
        "  if debug and t<3:\n",
        "    print(f\"a0: {a0.shape} a1: {a1.shape} a2: {a2.shape} a3: {a3.shape} \")\n",
        "    print(f\"W3: {W3.shape} z1: {z1.shape} z2: {z2.shape} z3: {z3.shape} \")\n",
        "    print(f\"dCostdW3: {dCostdW3.shape} dCostdW2: {dCostdW2.shape} dCostdW1: {dCostdW1.shape}\")\n",
        "\n",
        "#   # Update of weights and biases\n",
        "  W3 = W3- alpha* dCostdW3\n",
        "  W2 = W2- alpha* dCostdW2\n",
        "  W1 = W1- alpha* dCostdW1\n",
        "  b3 = b3- alpha* dCostdb3\n",
        "  b2 = b2- alpha* dCostdb2\n",
        "#   b1 = b1- alpha* dCostdb1\n",
        "\n",
        "# print(f'\\nEnd of gradient descent after {t} iterations')"
      ],
      "metadata": {
        "id": "gaZ2V4ctso94",
        "colab": {
          "base_uri": "https://localhost:8080/"
        },
        "outputId": "4e58ec6f-6d6e-448f-f976-5d8c9decf557"
      },
      "execution_count": null,
      "outputs": [
        {
          "output_type": "stream",
          "name": "stdout",
          "text": [
            "Starting the training\n",
            "\n",
            "Iteration 10\t Train cost = 0.7370  Test cost = 0.7471   Diff = 0.01005\n",
            "Iteration 20\t Train cost = 0.7346  Test cost = 0.7445   Diff = 0.00997\n",
            "Iteration 30\t Train cost = 0.7323  Test cost = 0.7421   Diff = 0.00989\n",
            "Iteration 40\t Train cost = 0.7301  Test cost = 0.7399   Diff = 0.00982\n",
            "Iteration 50\t Train cost = 0.7280  Test cost = 0.7378   Diff = 0.00976\n",
            "Iteration 60\t Train cost = 0.7261  Test cost = 0.7358   Diff = 0.00971\n",
            "Iteration 70\t Train cost = 0.7243  Test cost = 0.7339   Diff = 0.00966\n",
            "Iteration 80\t Train cost = 0.7226  Test cost = 0.7322   Diff = 0.00962\n",
            "Iteration 90\t Train cost = 0.7209  Test cost = 0.7305   Diff = 0.00958\n",
            "Iteration 100\t Train cost = 0.7194  Test cost = 0.7290   Diff = 0.00956\n",
            "Iteration 200\t Train cost = 0.7080  Test cost = 0.7175   Diff = 0.00947\n",
            "Iteration 300\t Train cost = 0.7013  Test cost = 0.7109   Diff = 0.00957\n",
            "Iteration 400\t Train cost = 0.6973  Test cost = 0.7071   Diff = 0.00973\n",
            "Iteration 500\t Train cost = 0.6949  Test cost = 0.7048   Diff = 0.00990\n",
            "Iteration 600\t Train cost = 0.6933  Test cost = 0.7034   Diff = 0.01005\n",
            "Iteration 700\t Train cost = 0.6924  Test cost = 0.7026   Diff = 0.01018\n",
            "Iteration 800\t Train cost = 0.6918  Test cost = 0.7021   Diff = 0.01029\n",
            "Iteration 900\t Train cost = 0.6914  Test cost = 0.7018   Diff = 0.01038\n",
            "Iteration 1000\t Train cost = 0.6911  Test cost = 0.7016   Diff = 0.01046\n"
          ]
        }
      ]
    },
    {
      "cell_type": "markdown",
      "source": [
        "#5. Plots#"
      ],
      "metadata": {
        "id": "srDq6nBrJdbX"
      }
    },
    {
      "cell_type": "markdown",
      "source": [
        "##5.1: Cost evolution##"
      ],
      "metadata": {
        "id": "J5mPhB0JJRpn"
      }
    },
    {
      "cell_type": "code",
      "source": [
        "plt.plot(costs_train, label='Train')\n",
        "plt.plot(costs_test, label='Test')\n",
        "plt.legend()\n",
        "plt.title('Costs over epochs')\n",
        "plt.xlabel('epochs (N)')\n",
        "plt.ylabel('cost')\n",
        "plt.show()"
      ],
      "metadata": {
        "id": "zw9IwBHSJnCc",
        "colab": {
          "base_uri": "https://localhost:8080/",
          "height": 609
        },
        "outputId": "47632c04-7b97-42f5-997b-c8a3156f9595"
      },
      "execution_count": null,
      "outputs": [
        {
          "output_type": "display_data",
          "data": {
            "text/plain": [
              "<Figure size 600x600 with 1 Axes>"
            ],
            "image/png": "[encoded data removed]"
          },
          "metadata": {}
        }
      ]
    },
    {
      "cell_type": "markdown",
      "source": [
        "#5.2: Scatter Plot#"
      ],
      "metadata": {
        "id": "m5hhOG_qNEvG"
      }
    },
    {
      "cell_type": "code",
      "source": [
        "import numpy as np\n",
        "import pandas as pd\n",
        "import random\n",
        "import math\n",
        "np.random.seed(42)\n",
        "\n",
        "import matplotlib.pyplot as plt\n",
        "FONTSIZE = 16\n",
        "params = {\n",
        "         'figure.figsize' : (6,6),\n",
        "         'axes.labelsize' : FONTSIZE,\n",
        "         'axes.titlesize' : FONTSIZE+2,\n",
        "         'legend.fontsize': FONTSIZE,\n",
        "         'xtick.labelsize': FONTSIZE,\n",
        "         'ytick.labelsize': FONTSIZE,\n",
        "         'xtick.color'    : 'black',\n",
        "         'ytick.color'    : 'black',\n",
        "         'axes.facecolor' : 'white',\n",
        "         'axes.edgecolor' : 'black',\n",
        "         'axes.titlepad'  :  20,\n",
        "         'axes.labelpad'  :  10}\n",
        "plt.rcParams.update(params)\n",
        "\n",
        "XNAME = 'x1'; XLABEL = r'$x_1$'\n",
        "YNAME = 'x2'; YLABEL = r'$x_2$'\n",
        "RANGE = (-6, 6); STEP = 0.1\n",
        "\n",
        "def predict(output_node, boundary_value):\n",
        "  output_node.reshape(-1, 1, 1) # a list (m, 1, 1)\n",
        "  predictions = np.array(output_node > boundary_value, dtype=int)\n",
        "  return predictions\n",
        "\n",
        "def plot_cost_vs_iter(train_costs, test_costs, title=\"Cost evolution\"):\n",
        "\n",
        "  fig, ax = plt.subplots(figsize=(8, 6))\n",
        "  iters = np.arange(1,len(train_costs)+1)\n",
        "  ax.plot(iters, train_costs, color='red', lw=1, label='Training set')\n",
        "  ax.plot(iters, test_costs, color='blue', lw=1, label='Testing set')\n",
        "  ax.set_xlabel(\"Number of iterations\"); ax.set_xlim(1, iters[-1])\n",
        "  ax.set_ylabel(\"Cost\")\n",
        "  ax.legend(loc=\"upper right\", frameon=False)\n",
        "  ax.set_title(title)\n",
        "  plt.show()\n",
        "\n",
        "\n",
        "def get_decision_surface(weights, biases, boundary=0.5, range=RANGE, step=STEP):\n",
        "\n",
        "  # Create a grid of points spanning the parameter space:\n",
        "  x1v, x2v = np.meshgrid(np.arange(range[0], range[1]+step, step),\n",
        "                         np.arange(range[0], range[1]+step, step))\n",
        "\n",
        "  # Stack it so that it is shaped like X_train: (m,2)\n",
        "  X_grid = np.c_[x1v.ravel(), x2v.ravel()].reshape(-1,2)\n",
        "\n",
        "  # Feedforward on all grid points and get binary predictions:\n",
        "  output = feedforward(X_grid, weights, biases)[-1] # getting only output node\n",
        "  Ypred_grid = predict(output, boundary)\n",
        "\n",
        "  return (x1v, x2v, Ypred_grid.reshape(x1v.shape))\n",
        "\n",
        "\n",
        "def plot_scatter(sig, bkg, ds=None, xname=XNAME, xlabel=XLABEL, yname=YNAME, ylabel=YLABEL, range=RANGE, step=STEP, title=\"Scatter plot\"):\n",
        "\n",
        "  fig, ax = plt.subplots()\n",
        "\n",
        "  # Decision surface\n",
        "  if ds:\n",
        "    (xx, yy, Z) = ds # unpack contour data\n",
        "    cs = plt.contourf(xx, yy, Z, levels=[0,0.5,1], colors=['orange','dodgerblue'], alpha=0.3)\n",
        "\n",
        "  # Scatter signal and background:\n",
        "  ax.scatter(sig[xname], sig[yname], marker='o', s=10, c='dodgerblue', alpha=1, label='Positive class')\n",
        "  ax.scatter(bkg[xname], bkg[yname], marker='o', s=10, c='orange',     alpha=1, label='Negative class')\n",
        "\n",
        "  # Axes, legend and plot:\n",
        "  ax.set_xlim(range); ax.set_xlabel(xlabel)\n",
        "  ax.set_ylim(range); ax.set_ylabel(ylabel)\n",
        "\n",
        "  ax.legend(bbox_to_anchor=(1.04, 0.5), loc=\"center left\", frameon=False)\n",
        "  ax.set_title(title)\n",
        "  plt.show()\n"
      ],
      "metadata": {
        "id": "ltBnKPDMc6Oy"
      },
      "execution_count": null,
      "outputs": []
    },
    {
      "cell_type": "code",
      "source": [
        "get_decision_surface(weights, biases, boundary=0.5, range=RANGE, step=STEP)"
      ],
      "metadata": {
        "colab": {
          "base_uri": "https://localhost:8080/"
        },
        "id": "tmWlnJ8qdDSh",
        "outputId": "15a92b21-3672-4d81-fce2-603cac10f2d3"
      },
      "execution_count": null,
      "outputs": [
        {
          "output_type": "execute_result",
          "data": {
            "text/plain": [
              "(array([[-6. , -5.9, -5.8, ...,  5.8,  5.9,  6. ],\n",
              "        [-6. , -5.9, -5.8, ...,  5.8,  5.9,  6. ],\n",
              "        [-6. , -5.9, -5.8, ...,  5.8,  5.9,  6. ],\n",
              "        ...,\n",
              "        [-6. , -5.9, -5.8, ...,  5.8,  5.9,  6. ],\n",
              "        [-6. , -5.9, -5.8, ...,  5.8,  5.9,  6. ],\n",
              "        [-6. , -5.9, -5.8, ...,  5.8,  5.9,  6. ]]),\n",
              " array([[-6. , -6. , -6. , ..., -6. , -6. , -6. ],\n",
              "        [-5.9, -5.9, -5.9, ..., -5.9, -5.9, -5.9],\n",
              "        [-5.8, -5.8, -5.8, ..., -5.8, -5.8, -5.8],\n",
              "        ...,\n",
              "        [ 5.8,  5.8,  5.8, ...,  5.8,  5.8,  5.8],\n",
              "        [ 5.9,  5.9,  5.9, ...,  5.9,  5.9,  5.9],\n",
              "        [ 6. ,  6. ,  6. , ...,  6. ,  6. ,  6. ]]),\n",
              " array([[0, 0, 0, ..., 0, 0, 0],\n",
              "        [0, 0, 0, ..., 0, 0, 0],\n",
              "        [0, 0, 0, ..., 0, 0, 0],\n",
              "        ...,\n",
              "        [0, 0, 0, ..., 0, 0, 0],\n",
              "        [0, 0, 0, ..., 0, 0, 0],\n",
              "        [0, 0, 0, ..., 0, 0, 0]]))"
            ]
          },
          "metadata": {},
          "execution_count": 41
        }
      ]
    },
    {
      "cell_type": "code",
      "source": [
        "plot_scatter(sig, bkg, ds=None, xname=XNAME, xlabel=XLABEL, yname=YNAME, ylabel=YLABEL, range=RANGE, step=STEP, title=\"Scatter plot\")\n"
      ],
      "metadata": {
        "colab": {
          "base_uri": "https://localhost:8080/",
          "height": 609
        },
        "id": "3KOiRvBwdFob",
        "outputId": "d64daa8d-cf13-44d3-eb53-e219e9080589"
      },
      "execution_count": null,
      "outputs": [
        {
          "output_type": "display_data",
          "data": {
            "text/plain": [
              "<Figure size 600x600 with 1 Axes>"
            ],
            "image/png": "[encoded data removed]"
          },
          "metadata": {}
        }
      ]
    },
    {
      "cell_type": "markdown",
      "source": [
        "# ***Fun!***"
      ],
      "metadata": {
        "id": "TAPEzsy3dNOx"
      }
    }
  ]
}